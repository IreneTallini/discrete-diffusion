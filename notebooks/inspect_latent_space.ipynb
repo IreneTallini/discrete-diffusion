{
 "cells": [
  {
   "cell_type": "code",
   "execution_count": null,
   "metadata": {
    "pycharm": {
     "name": "#%%\n"
    }
   },
   "outputs": [],
   "source": [
    "import hydra\n",
    "import omegaconf\n",
    "from nn_core.common import PROJECT_ROOT\n",
    "\n",
    "from discrete_diffusion.io_utils import write_TU_format\n",
    "from discrete_diffusion.utils import get_example_from_batch, pyg_to_networkx_with_features\n",
    "\n",
    "\n",
    "def run(cfg):\n",
    "\n",
    "    data_list = []\n",
    "    batch_size = len(batch_list[0].ptr) - 1\n",
    "    for batch in batch_list:\n",
    "        for i in range(batch_size):\n",
    "            pyg_graph = get_example_from_batch(batch, i)\n",
    "            nx_graph = pyg_to_networkx_with_features(pyg_graph)\n",
    "            data_list.append(nx_graph)\n",
    "    write_TU_format(data_list, path=cfg.nn.module.latent_space_folder,\n",
    "                    dataset_name=cfg.nn.module.hparams.dataset_name)\n",
    "\n",
    "\n",
    "@hydra.main(config_path=str(PROJECT_ROOT / \"conf\"), config_name=\"default\")\n",
    "def main(cfg: omegaconf.DictConfig):\n",
    "    run(cfg)\n",
    "\n",
    "\n",
    "if __name__ == \"__main__\":\n",
    "    main()"
   ]
  }
 ],
 "metadata": {
  "kernelspec": {
   "display_name": "Python 3",
   "language": "python",
   "name": "python3"
  },
  "language_info": {
   "codemirror_mode": {
    "name": "ipython",
    "version": 2
   },
   "file_extension": ".py",
   "mimetype": "text/x-python",
   "name": "python",
   "nbconvert_exporter": "python",
   "pygments_lexer": "ipython2",
   "version": "2.7.6"
  }
 },
 "nbformat": 4,
 "nbformat_minor": 0
}
